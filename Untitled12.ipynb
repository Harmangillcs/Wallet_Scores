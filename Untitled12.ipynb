{
 "cells": [
  {
   "cell_type": "code",
   "execution_count": 1,
   "metadata": {
    "colab": {
     "base_uri": "https://localhost:8080/"
    },
    "id": "ETPTjBljFRpL",
    "outputId": "a142a0f3-7825-4ab9-a618-3927e2c42253"
   },
   "outputs": [
    {
     "name": "stdout",
     "output_type": "stream",
     "text": [
      "Requirement already satisfied: pandas in /usr/local/lib/python3.11/dist-packages (2.2.2)\n",
      "Requirement already satisfied: numpy in /usr/local/lib/python3.11/dist-packages (2.0.2)\n",
      "Requirement already satisfied: matplotlib in /usr/local/lib/python3.11/dist-packages (3.10.0)\n",
      "\u001b[31mERROR: Could not find a version that satisfies the requirement random (from versions: none)\u001b[0m\u001b[31m\n",
      "\u001b[0m\u001b[31mERROR: No matching distribution found for random\u001b[0m\u001b[31m\n",
      "\u001b[0m"
     ]
    }
   ],
   "source": [
    "!pip install pandas numpy matplotlib random scikit-learn seaborn"
   ]
  },
  {
   "cell_type": "code",
   "execution_count": 1,
   "metadata": {
    "id": "WUnHEcX9Ficd"
   },
   "outputs": [],
   "source": [
    "import pandas as pd\n",
    "import numpy as np\n",
    "import matplotlib.pyplot as plt\n",
    "import random\n",
    "import seaborn as sns"
   ]
  },
  {
   "cell_type": "markdown",
   "metadata": {
    "id": "7QvCMgOfFnLz"
   },
   "source": [
    "#Load the data"
   ]
  },
  {
   "cell_type": "code",
   "execution_count": 2,
   "metadata": {
    "colab": {
     "base_uri": "https://localhost:8080/",
     "height": 206
    },
    "id": "IIcjXWfKFiZn",
    "outputId": "3f36be7b-d8fd-4b78-cfaa-3929a51553de"
   },
   "outputs": [
    {
     "data": {
      "text/html": [
       "<div>\n",
       "<style scoped>\n",
       "    .dataframe tbody tr th:only-of-type {\n",
       "        vertical-align: middle;\n",
       "    }\n",
       "\n",
       "    .dataframe tbody tr th {\n",
       "        vertical-align: top;\n",
       "    }\n",
       "\n",
       "    .dataframe thead th {\n",
       "        text-align: right;\n",
       "    }\n",
       "</style>\n",
       "<table border=\"1\" class=\"dataframe\">\n",
       "  <thead>\n",
       "    <tr style=\"text-align: right;\">\n",
       "      <th></th>\n",
       "      <th>wallet_id</th>\n",
       "    </tr>\n",
       "  </thead>\n",
       "  <tbody>\n",
       "    <tr>\n",
       "      <th>0</th>\n",
       "      <td>0x0039f22efb07a647557c7c5d17854cfd6d489ef3</td>\n",
       "    </tr>\n",
       "    <tr>\n",
       "      <th>1</th>\n",
       "      <td>0x06b51c6882b27cb05e712185531c1f74996dd988</td>\n",
       "    </tr>\n",
       "    <tr>\n",
       "      <th>2</th>\n",
       "      <td>0x0795732aacc448030ef374374eaae57d2965c16c</td>\n",
       "    </tr>\n",
       "    <tr>\n",
       "      <th>3</th>\n",
       "      <td>0x0aaa79f1a86bc8136cd0d1ca0d51964f4e3766f9</td>\n",
       "    </tr>\n",
       "    <tr>\n",
       "      <th>4</th>\n",
       "      <td>0x0fe383e5abc200055a7f391f94a5f5d1f844b9ae</td>\n",
       "    </tr>\n",
       "  </tbody>\n",
       "</table>\n",
       "</div>"
      ],
      "text/plain": [
       "                                    wallet_id\n",
       "0  0x0039f22efb07a647557c7c5d17854cfd6d489ef3\n",
       "1  0x06b51c6882b27cb05e712185531c1f74996dd988\n",
       "2  0x0795732aacc448030ef374374eaae57d2965c16c\n",
       "3  0x0aaa79f1a86bc8136cd0d1ca0d51964f4e3766f9\n",
       "4  0x0fe383e5abc200055a7f391f94a5f5d1f844b9ae"
      ]
     },
     "execution_count": 2,
     "metadata": {},
     "output_type": "execute_result"
    }
   ],
   "source": [
    "data=pd.read_csv(\"Wallet id - Sheet1.csv\")\n",
    "df=pd.DataFrame(data)\n",
    "df.head()"
   ]
  },
  {
   "cell_type": "code",
   "execution_count": null,
   "metadata": {
    "id": "wDEL_c2CFiWG"
   },
   "outputs": [],
   "source": []
  },
  {
   "cell_type": "code",
   "execution_count": 3,
   "metadata": {
    "id": "CvooTfVfFiTs"
   },
   "outputs": [],
   "source": [
    "def wallet_data(wallet_id):\n",
    "    return {\n",
    "        \"wallet_id\": wallet_id,\n",
    "        \"total_borrowed\": random.uniform(0, 50000),\n",
    "        \"total_repaid\": random.uniform(0, 50000),\n",
    "        \"liquidations_faced\": random.randint(0, 5),\n",
    "        \"collateral_supplied\": random.uniform(0, 60000),\n",
    "        \"active_days\": random.randint(0, 1000)\n",
    "    }"
   ]
  },
  {
   "cell_type": "code",
   "execution_count": 4,
   "metadata": {
    "colab": {
     "base_uri": "https://localhost:8080/",
     "height": 206
    },
    "id": "LSFy6ySBFiP7",
    "outputId": "19dadc92-631a-4d93-93d4-f4cbd5d63bfd"
   },
   "outputs": [
    {
     "data": {
      "text/html": [
       "<div>\n",
       "<style scoped>\n",
       "    .dataframe tbody tr th:only-of-type {\n",
       "        vertical-align: middle;\n",
       "    }\n",
       "\n",
       "    .dataframe tbody tr th {\n",
       "        vertical-align: top;\n",
       "    }\n",
       "\n",
       "    .dataframe thead th {\n",
       "        text-align: right;\n",
       "    }\n",
       "</style>\n",
       "<table border=\"1\" class=\"dataframe\">\n",
       "  <thead>\n",
       "    <tr style=\"text-align: right;\">\n",
       "      <th></th>\n",
       "      <th>wallet_id</th>\n",
       "      <th>total_borrowed</th>\n",
       "      <th>total_repaid</th>\n",
       "      <th>liquidations_faced</th>\n",
       "      <th>collateral_supplied</th>\n",
       "      <th>active_days</th>\n",
       "    </tr>\n",
       "  </thead>\n",
       "  <tbody>\n",
       "    <tr>\n",
       "      <th>0</th>\n",
       "      <td>0x0039f22efb07a647557c7c5d17854cfd6d489ef3</td>\n",
       "      <td>46444.586641</td>\n",
       "      <td>16836.446466</td>\n",
       "      <td>4</td>\n",
       "      <td>15563.831656</td>\n",
       "      <td>354</td>\n",
       "    </tr>\n",
       "    <tr>\n",
       "      <th>1</th>\n",
       "      <td>0x06b51c6882b27cb05e712185531c1f74996dd988</td>\n",
       "      <td>27833.501371</td>\n",
       "      <td>31784.878005</td>\n",
       "      <td>2</td>\n",
       "      <td>15491.414673</td>\n",
       "      <td>345</td>\n",
       "    </tr>\n",
       "    <tr>\n",
       "      <th>2</th>\n",
       "      <td>0x0795732aacc448030ef374374eaae57d2965c16c</td>\n",
       "      <td>13989.228475</td>\n",
       "      <td>46321.835568</td>\n",
       "      <td>0</td>\n",
       "      <td>53752.769526</td>\n",
       "      <td>142</td>\n",
       "    </tr>\n",
       "    <tr>\n",
       "      <th>3</th>\n",
       "      <td>0x0aaa79f1a86bc8136cd0d1ca0d51964f4e3766f9</td>\n",
       "      <td>9508.870186</td>\n",
       "      <td>1596.952610</td>\n",
       "      <td>1</td>\n",
       "      <td>19904.021634</td>\n",
       "      <td>637</td>\n",
       "    </tr>\n",
       "    <tr>\n",
       "      <th>4</th>\n",
       "      <td>0x0fe383e5abc200055a7f391f94a5f5d1f844b9ae</td>\n",
       "      <td>42954.945138</td>\n",
       "      <td>15573.100360</td>\n",
       "      <td>3</td>\n",
       "      <td>18753.450119</td>\n",
       "      <td>258</td>\n",
       "    </tr>\n",
       "  </tbody>\n",
       "</table>\n",
       "</div>"
      ],
      "text/plain": [
       "                                    wallet_id  total_borrowed  total_repaid  \\\n",
       "0  0x0039f22efb07a647557c7c5d17854cfd6d489ef3    46444.586641  16836.446466   \n",
       "1  0x06b51c6882b27cb05e712185531c1f74996dd988    27833.501371  31784.878005   \n",
       "2  0x0795732aacc448030ef374374eaae57d2965c16c    13989.228475  46321.835568   \n",
       "3  0x0aaa79f1a86bc8136cd0d1ca0d51964f4e3766f9     9508.870186   1596.952610   \n",
       "4  0x0fe383e5abc200055a7f391f94a5f5d1f844b9ae    42954.945138  15573.100360   \n",
       "\n",
       "   liquidations_faced  collateral_supplied  active_days  \n",
       "0                   4         15563.831656          354  \n",
       "1                   2         15491.414673          345  \n",
       "2                   0         53752.769526          142  \n",
       "3                   1         19904.021634          637  \n",
       "4                   3         18753.450119          258  "
      ]
     },
     "execution_count": 4,
     "metadata": {},
     "output_type": "execute_result"
    }
   ],
   "source": [
    "wallet_data = [wallet_data(w) for w in df[\"wallet_id\"]]\n",
    "data_df = pd.DataFrame(wallet_data)\n",
    "data_df.head()"
   ]
  },
  {
   "cell_type": "code",
   "execution_count": null,
   "metadata": {
    "id": "3maCSlU4FiNs"
   },
   "outputs": [],
   "source": []
  },
  {
   "cell_type": "markdown",
   "metadata": {
    "id": "VWVcCFJHG1mP"
   },
   "source": [
    "#Collateral to Borrow Ratio\n",
    "\n"
   ]
  },
  {
   "cell_type": "code",
   "execution_count": 5,
   "metadata": {
    "colab": {
     "base_uri": "https://localhost:8080/",
     "height": 241
    },
    "id": "2K0iQVTkFiKR",
    "outputId": "bbf76d6b-d9f6-4e4f-f714-ada7b242c9f1"
   },
   "outputs": [
    {
     "data": {
      "text/plain": [
       "0    0.335098\n",
       "1    0.556554\n",
       "2    3.842165\n",
       "3    2.092986\n",
       "4    0.436574\n",
       "Name: collateral_borrow_ratio, dtype: float64"
      ]
     },
     "execution_count": 5,
     "metadata": {},
     "output_type": "execute_result"
    }
   ],
   "source": [
    "#collateral wallet supplied v/s  what they borrowed. so if the the collateral_supplied is more than it is good as compared to borrow.\n",
    "data_df[\"collateral_borrow_ratio\"] = data_df[\"collateral_supplied\"] / (data_df[\"total_borrowed\"] + 1)\n",
    "data_df[\"collateral_borrow_ratio\"].head()"
   ]
  },
  {
   "cell_type": "code",
   "execution_count": 6,
   "metadata": {
    "colab": {
     "base_uri": "https://localhost:8080/",
     "height": 241
    },
    "id": "5nnT0FqxFiHh",
    "outputId": "4cbffdcc-e62f-49eb-a83f-79ee67f0a509"
   },
   "outputs": [
    {
     "data": {
      "text/plain": [
       "0    0.362498\n",
       "1    1.141924\n",
       "2    3.311014\n",
       "3    0.167926\n",
       "4    0.362537\n",
       "Name: repayment_ratio, dtype: float64"
      ]
     },
     "execution_count": 6,
     "metadata": {},
     "output_type": "execute_result"
    }
   ],
   "source": [
    "#Repayment ratio means how much of the borrowed amount they have repaid the higher they repaid the better\n",
    "data_df[\"repayment_ratio\"] = data_df[\"total_repaid\"] / (data_df[\"total_borrowed\"] + 1)\n",
    "data_df[\"repayment_ratio\"].head()"
   ]
  },
  {
   "cell_type": "code",
   "execution_count": null,
   "metadata": {
    "id": "YNExmggkFiDo"
   },
   "outputs": [],
   "source": []
  },
  {
   "cell_type": "code",
   "execution_count": 7,
   "metadata": {
    "id": "jeMVQuRWFiBN"
   },
   "outputs": [],
   "source": [
    "def normalize(series):\n",
    "    return (series - series.min()) / (series.max() - series.min() + 1e-9)"
   ]
  },
  {
   "cell_type": "code",
   "execution_count": 8,
   "metadata": {
    "colab": {
     "base_uri": "https://localhost:8080/",
     "height": 226
    },
    "id": "s3z6mckJFh9j",
    "outputId": "902943a4-d3b5-41a5-d29a-344104f2ba51"
   },
   "outputs": [
    {
     "data": {
      "text/html": [
       "<div>\n",
       "<style scoped>\n",
       "    .dataframe tbody tr th:only-of-type {\n",
       "        vertical-align: middle;\n",
       "    }\n",
       "\n",
       "    .dataframe tbody tr th {\n",
       "        vertical-align: top;\n",
       "    }\n",
       "\n",
       "    .dataframe thead th {\n",
       "        text-align: right;\n",
       "    }\n",
       "</style>\n",
       "<table border=\"1\" class=\"dataframe\">\n",
       "  <thead>\n",
       "    <tr style=\"text-align: right;\">\n",
       "      <th></th>\n",
       "      <th>wallet_id</th>\n",
       "      <th>total_borrowed</th>\n",
       "      <th>total_repaid</th>\n",
       "      <th>liquidations_faced</th>\n",
       "      <th>collateral_supplied</th>\n",
       "      <th>active_days</th>\n",
       "      <th>collateral_borrow_ratio</th>\n",
       "      <th>repayment_ratio</th>\n",
       "      <th>norm_cbr</th>\n",
       "      <th>norm_repay</th>\n",
       "      <th>norm_active</th>\n",
       "    </tr>\n",
       "  </thead>\n",
       "  <tbody>\n",
       "    <tr>\n",
       "      <th>0</th>\n",
       "      <td>0x0039f22efb07a647557c7c5d17854cfd6d489ef3</td>\n",
       "      <td>46444.586641</td>\n",
       "      <td>16836.446466</td>\n",
       "      <td>4</td>\n",
       "      <td>15563.831656</td>\n",
       "      <td>354</td>\n",
       "      <td>0.335098</td>\n",
       "      <td>0.362498</td>\n",
       "      <td>0.014714</td>\n",
       "      <td>0.014609</td>\n",
       "      <td>0.345491</td>\n",
       "    </tr>\n",
       "    <tr>\n",
       "      <th>1</th>\n",
       "      <td>0x06b51c6882b27cb05e712185531c1f74996dd988</td>\n",
       "      <td>27833.501371</td>\n",
       "      <td>31784.878005</td>\n",
       "      <td>2</td>\n",
       "      <td>15491.414673</td>\n",
       "      <td>345</td>\n",
       "      <td>0.556554</td>\n",
       "      <td>1.141924</td>\n",
       "      <td>0.025056</td>\n",
       "      <td>0.053928</td>\n",
       "      <td>0.336373</td>\n",
       "    </tr>\n",
       "    <tr>\n",
       "      <th>2</th>\n",
       "      <td>0x0795732aacc448030ef374374eaae57d2965c16c</td>\n",
       "      <td>13989.228475</td>\n",
       "      <td>46321.835568</td>\n",
       "      <td>0</td>\n",
       "      <td>53752.769526</td>\n",
       "      <td>142</td>\n",
       "      <td>3.842165</td>\n",
       "      <td>3.311014</td>\n",
       "      <td>0.178499</td>\n",
       "      <td>0.163350</td>\n",
       "      <td>0.130699</td>\n",
       "    </tr>\n",
       "    <tr>\n",
       "      <th>3</th>\n",
       "      <td>0x0aaa79f1a86bc8136cd0d1ca0d51964f4e3766f9</td>\n",
       "      <td>9508.870186</td>\n",
       "      <td>1596.952610</td>\n",
       "      <td>1</td>\n",
       "      <td>19904.021634</td>\n",
       "      <td>637</td>\n",
       "      <td>2.092986</td>\n",
       "      <td>0.167926</td>\n",
       "      <td>0.096810</td>\n",
       "      <td>0.004794</td>\n",
       "      <td>0.632219</td>\n",
       "    </tr>\n",
       "    <tr>\n",
       "      <th>4</th>\n",
       "      <td>0x0fe383e5abc200055a7f391f94a5f5d1f844b9ae</td>\n",
       "      <td>42954.945138</td>\n",
       "      <td>15573.100360</td>\n",
       "      <td>3</td>\n",
       "      <td>18753.450119</td>\n",
       "      <td>258</td>\n",
       "      <td>0.436574</td>\n",
       "      <td>0.362537</td>\n",
       "      <td>0.019453</td>\n",
       "      <td>0.014611</td>\n",
       "      <td>0.248227</td>\n",
       "    </tr>\n",
       "  </tbody>\n",
       "</table>\n",
       "</div>"
      ],
      "text/plain": [
       "                                    wallet_id  total_borrowed  total_repaid  \\\n",
       "0  0x0039f22efb07a647557c7c5d17854cfd6d489ef3    46444.586641  16836.446466   \n",
       "1  0x06b51c6882b27cb05e712185531c1f74996dd988    27833.501371  31784.878005   \n",
       "2  0x0795732aacc448030ef374374eaae57d2965c16c    13989.228475  46321.835568   \n",
       "3  0x0aaa79f1a86bc8136cd0d1ca0d51964f4e3766f9     9508.870186   1596.952610   \n",
       "4  0x0fe383e5abc200055a7f391f94a5f5d1f844b9ae    42954.945138  15573.100360   \n",
       "\n",
       "   liquidations_faced  collateral_supplied  active_days  \\\n",
       "0                   4         15563.831656          354   \n",
       "1                   2         15491.414673          345   \n",
       "2                   0         53752.769526          142   \n",
       "3                   1         19904.021634          637   \n",
       "4                   3         18753.450119          258   \n",
       "\n",
       "   collateral_borrow_ratio  repayment_ratio  norm_cbr  norm_repay  norm_active  \n",
       "0                 0.335098         0.362498  0.014714    0.014609     0.345491  \n",
       "1                 0.556554         1.141924  0.025056    0.053928     0.336373  \n",
       "2                 3.842165         3.311014  0.178499    0.163350     0.130699  \n",
       "3                 2.092986         0.167926  0.096810    0.004794     0.632219  \n",
       "4                 0.436574         0.362537  0.019453    0.014611     0.248227  "
      ]
     },
     "execution_count": 8,
     "metadata": {},
     "output_type": "execute_result"
    }
   ],
   "source": [
    "#Make all values normalize between 0 to 1 means similar to scalling.\n",
    "data_df[\"norm_cbr\"] = normalize(data_df[\"collateral_borrow_ratio\"])\n",
    "data_df[\"norm_repay\"] = normalize(data_df[\"repayment_ratio\"])\n",
    "data_df[\"norm_active\"] = normalize(data_df[\"active_days\"])\n",
    "data_df.head()"
   ]
  },
  {
   "cell_type": "code",
   "execution_count": 9,
   "metadata": {
    "id": "-OCgPaPfFh66"
   },
   "outputs": [],
   "source": [
    "#Liquidations are bad, so we subtract from 1. more liquidations = lower score\n",
    "data_df[\"norm_liquidations\"] = 1 - normalize(data_df[\"liquidations_faced\"])\n"
   ]
  },
  {
   "cell_type": "markdown",
   "metadata": {
    "id": "A1waPA3WIIbt"
   },
   "source": [
    "#Scoring logic"
   ]
  },
  {
   "cell_type": "code",
   "execution_count": 10,
   "metadata": {
    "id": "5IRqE5gJFh3M"
   },
   "outputs": [],
   "source": [
    "data_df[\"score\"] = (\n",
    "    0.3 * data_df[\"norm_cbr\"] +\n",
    "    0.3 * data_df[\"norm_repay\"] +\n",
    "    0.2 * data_df[\"norm_active\"] +\n",
    "    0.2 * data_df[\"norm_liquidations\"]\n",
    ") * 1000"
   ]
  },
  {
   "cell_type": "code",
   "execution_count": null,
   "metadata": {
    "id": "Z3K91u5AIAxr"
   },
   "outputs": [],
   "source": []
  },
  {
   "cell_type": "code",
   "execution_count": 11,
   "metadata": {
    "id": "DJAy754jIAut"
   },
   "outputs": [
    {
     "data": {
      "text/html": [
       "<div>\n",
       "<style scoped>\n",
       "    .dataframe tbody tr th:only-of-type {\n",
       "        vertical-align: middle;\n",
       "    }\n",
       "\n",
       "    .dataframe tbody tr th {\n",
       "        vertical-align: top;\n",
       "    }\n",
       "\n",
       "    .dataframe thead th {\n",
       "        text-align: right;\n",
       "    }\n",
       "</style>\n",
       "<table border=\"1\" class=\"dataframe\">\n",
       "  <thead>\n",
       "    <tr style=\"text-align: right;\">\n",
       "      <th></th>\n",
       "      <th>wallet_id</th>\n",
       "      <th>score</th>\n",
       "    </tr>\n",
       "  </thead>\n",
       "  <tbody>\n",
       "    <tr>\n",
       "      <th>0</th>\n",
       "      <td>0x0039f22efb07a647557c7c5d17854cfd6d489ef3</td>\n",
       "      <td>118</td>\n",
       "    </tr>\n",
       "    <tr>\n",
       "      <th>1</th>\n",
       "      <td>0x06b51c6882b27cb05e712185531c1f74996dd988</td>\n",
       "      <td>211</td>\n",
       "    </tr>\n",
       "    <tr>\n",
       "      <th>2</th>\n",
       "      <td>0x0795732aacc448030ef374374eaae57d2965c16c</td>\n",
       "      <td>329</td>\n",
       "    </tr>\n",
       "    <tr>\n",
       "      <th>3</th>\n",
       "      <td>0x0aaa79f1a86bc8136cd0d1ca0d51964f4e3766f9</td>\n",
       "      <td>317</td>\n",
       "    </tr>\n",
       "    <tr>\n",
       "      <th>4</th>\n",
       "      <td>0x0fe383e5abc200055a7f391f94a5f5d1f844b9ae</td>\n",
       "      <td>140</td>\n",
       "    </tr>\n",
       "  </tbody>\n",
       "</table>\n",
       "</div>"
      ],
      "text/plain": [
       "                                    wallet_id  score\n",
       "0  0x0039f22efb07a647557c7c5d17854cfd6d489ef3    118\n",
       "1  0x06b51c6882b27cb05e712185531c1f74996dd988    211\n",
       "2  0x0795732aacc448030ef374374eaae57d2965c16c    329\n",
       "3  0x0aaa79f1a86bc8136cd0d1ca0d51964f4e3766f9    317\n",
       "4  0x0fe383e5abc200055a7f391f94a5f5d1f844b9ae    140"
      ]
     },
     "execution_count": 11,
     "metadata": {},
     "output_type": "execute_result"
    }
   ],
   "source": [
    "data_df[\"score\"] = data_df[\"score\"].round().astype(int)\n",
    "data_df[[\"wallet_id\", \"score\"]].head()\n"
   ]
  },
  {
   "cell_type": "code",
   "execution_count": null,
   "metadata": {
    "id": "ThnUouBjIAq9"
   },
   "outputs": [],
   "source": []
  },
  {
   "cell_type": "markdown",
   "metadata": {
    "id": "Bvk22Sd6Il61"
   },
   "source": [
    "#Save final output"
   ]
  },
  {
   "cell_type": "code",
   "execution_count": 13,
   "metadata": {
    "id": "a2uqMLINIAo4"
   },
   "outputs": [],
   "source": [
    "output_df = data_df[[\"wallet_id\", \"score\"]]\n",
    "output_df.to_csv(\"wallet_risk_scores.csv\", index=False)"
   ]
  },
  {
   "cell_type": "code",
   "execution_count": null,
   "metadata": {
    "id": "j0CjHrVwIAlL"
   },
   "outputs": [],
   "source": []
  },
  {
   "cell_type": "code",
   "execution_count": null,
   "metadata": {
    "id": "TY2BbsDCIAis"
   },
   "outputs": [],
   "source": []
  }
 ],
 "metadata": {
  "colab": {
   "provenance": []
  },
  "kernelspec": {
   "display_name": "Python (tf_env)",
   "language": "python",
   "name": "tf_env"
  },
  "language_info": {
   "codemirror_mode": {
    "name": "ipython",
    "version": 3
   },
   "file_extension": ".py",
   "mimetype": "text/x-python",
   "name": "python",
   "nbconvert_exporter": "python",
   "pygments_lexer": "ipython3",
   "version": "3.10.0"
  }
 },
 "nbformat": 4,
 "nbformat_minor": 4
}
